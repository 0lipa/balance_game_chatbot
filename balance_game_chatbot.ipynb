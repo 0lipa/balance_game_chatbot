{
 "cells": [
  {
   "cell_type": "markdown",
   "id": "a5f8c06a",
   "metadata": {},
   "source": [
    "# 밸런스 게임 챗봇\n"
   ]
  },
  {
   "cell_type": "markdown",
   "id": "df2c248d",
   "metadata": {},
   "source": [
    "##### 밸런스 게임 주제를 전달하고 이를 챗봇과 토론해볼 수 있도록 합니다.....(제가 할 수 있을까요...?)\n",
    "\n",
    "1. 챗봇에게 밸런스 게임 주제를 출력하도록 합니다.\n",
    "2. 밸런스 게임 주제가 선정되었으면 내가 답변을 하도록 하고 챗봇이 나의 생각을 바꾸기 위해 딴지를 걸게 합니다."
   ]
  },
  {
   "cell_type": "code",
   "execution_count": 15,
   "id": "cc6cc0cf",
   "metadata": {},
   "outputs": [],
   "source": [
    "from dotenv import load_dotenv\n",
    "import os\n",
    "\n",
    "load_dotenv()\n",
    "OPENAI_API_KEY = os.getenv('OPENAI_API_KEY')"
   ]
  },
  {
   "cell_type": "code",
   "execution_count": 14,
   "id": "20157189",
   "metadata": {},
   "outputs": [],
   "source": [
    "from gtts import gTTS\n",
    "import speech_recognition as sr"
   ]
  },
  {
   "cell_type": "markdown",
   "id": "a01386fa",
   "metadata": {},
   "source": [
    "1. 주제를 만드는 함수"
   ]
  },
  {
   "cell_type": "code",
   "execution_count": 18,
   "id": "dd98b549",
   "metadata": {},
   "outputs": [],
   "source": [
    "from openai import OpenAI\n",
    "\n",
    "def make_thema(query, temperature=0.3):\n",
    "    client = OpenAI()\n",
    "\n",
    "    system_instruction = '''\n",
    "    당신은 금요일에 퇴근하고 친구들을 만나 맛있는 저녁을 먹고 술을 적당히 마셔 신난 상태입니다. \n",
    "    술자리에서 다같이 재미있게 얘기할 만한 연애 밸런스 게임 주제 세 개를 선정해주세요.\n",
    "\n",
    "    ### 지시사항 ###\n",
    "    - 토론이 가능한 주제를 선정할 것\n",
    "    - 성인이니까 선정적인 주제도 하나 정도는 출력할 것\n",
    "    - 선택하기 어렵고 애매한 주제를 선택할 것\n",
    "    - 여사친/남사친 문제를 한 개 이상 포함할 것\n",
    "\n",
    "    ### 출력 형식 ###\n",
    "    주제 1. 선택지 vs 선택지\n",
    "    주제 2. 선택지 vs 선택지\n",
    "\n",
    "    어떤 것에 대해 이야기해볼까요?\n",
    "    '''\n",
    "    user_message = f'''\n",
    "    {query}\n",
    "    '''\n",
    "\n",
    "    response = client.chat.completions.create(\n",
    "\n",
    "        model='gpt-4o',\n",
    "        messages=[{\n",
    "            'role': 'system',\n",
    "            'content': [{\n",
    "                'type': 'text',\n",
    "                'text': system_instruction\n",
    "            }]\n",
    "\n",
    "        },\n",
    "        {\n",
    "            'role': 'user',\n",
    "            'content': [{\n",
    "                'type': 'text',\n",
    "                'text': user_message\n",
    "\n",
    "            }]\n",
    "\n",
    "            \n",
    "        }],\n",
    "        response_format={\n",
    "            'type':'text'\n",
    "        },\n",
    "        stream=True,\n",
    "        temperature=temperature,\n",
    "        max_tokens=2048,\n",
    "        top_p = 1,\n",
    "        frequency_penalty=0,\n",
    "        presence_penalty=0\n",
    "    )\n",
    "\n",
    "    return response.choices[0].message.content"
   ]
  },
  {
   "cell_type": "code",
   "execution_count": null,
   "id": "aa81e5e1",
   "metadata": {},
   "outputs": [
    {
     "name": "stdout",
     "output_type": "stream",
     "text": [
      "Collecting pyglet\n",
      "  Downloading pyglet-2.1.8-py3-none-any.whl.metadata (7.7 kB)\n",
      "Downloading pyglet-2.1.8-py3-none-any.whl (1.0 MB)\n",
      "   ---------------------------------------- 0.0/1.0 MB ? eta -:--:--\n",
      "   ---------------------------------------- 1.0/1.0 MB 5.4 MB/s eta 0:00:00\n",
      "Installing collected packages: pyglet\n",
      "Successfully installed pyglet-2.1.8\n"
     ]
    }
   ],
   "source": [
    "# !pip install pyglet"
   ]
  },
  {
   "cell_type": "code",
   "execution_count": 12,
   "id": "b269dee9",
   "metadata": {},
   "outputs": [
    {
     "name": "stdout",
     "output_type": "stream",
     "text": [
      "안녕하세요! 어떤 것을 도와드릴까요?\n"
     ]
    }
   ],
   "source": [
    "from gtts import gTTS\n",
    "import pyglet\n",
    "\n",
    "first_input= '안녕하세요! 어떤 것을 도와드릴까요?'\n",
    "opening_tts = gTTS(\n",
    "    text=first_input,\n",
    "    lang='ko'\n",
    ")\n",
    "# opening_tts.save('opening_ment.mp3')\n",
    "\n",
    "music = pyglet.media.load('opening_ment.mp3',streaming=False)\n",
    "music.play()\n",
    "print(first_input)"
   ]
  },
  {
   "cell_type": "code",
   "execution_count": 20,
   "id": "8765141a",
   "metadata": {},
   "outputs": [
    {
     "name": "stdout",
     "output_type": "stream",
     "text": [
      "안녕하세요! 어떤 것을 도와드릴까요?\n",
      "안녕 재미있는 밸런스 게임 주제 몇 가지 선정해 줘\n"
     ]
    },
    {
     "ename": "AttributeError",
     "evalue": "'Stream' object has no attribute 'choices'",
     "output_type": "error",
     "traceback": [
      "\u001b[31m---------------------------------------------------------------------------\u001b[39m",
      "\u001b[31mAttributeError\u001b[39m                            Traceback (most recent call last)",
      "\u001b[36mCell\u001b[39m\u001b[36m \u001b[39m\u001b[32mIn[20]\u001b[39m\u001b[32m, line 10\u001b[39m\n\u001b[32m      8\u001b[39m \u001b[38;5;28;01mif\u001b[39;00m txt \u001b[38;5;129;01mis\u001b[39;00m \u001b[38;5;129;01mnot\u001b[39;00m \u001b[38;5;28;01mNone\u001b[39;00m:\n\u001b[32m      9\u001b[39m     \u001b[38;5;28mprint\u001b[39m(txt)\n\u001b[32m---> \u001b[39m\u001b[32m10\u001b[39m     \u001b[43mmake_thema\u001b[49m\u001b[43m(\u001b[49m\u001b[43mtxt\u001b[49m\u001b[43m)\u001b[49m\n\u001b[32m     11\u001b[39m     \u001b[38;5;28;01mbreak\u001b[39;00m\n",
      "\u001b[36mCell\u001b[39m\u001b[36m \u001b[39m\u001b[32mIn[18]\u001b[39m\u001b[32m, line 58\u001b[39m, in \u001b[36mmake_thema\u001b[39m\u001b[34m(query, temperature)\u001b[39m\n\u001b[32m     22\u001b[39m user_message = \u001b[33mf\u001b[39m\u001b[33m'''\u001b[39m\n\u001b[32m     23\u001b[39m \u001b[33m\u001b[39m\u001b[38;5;132;01m{\u001b[39;00mquery\u001b[38;5;132;01m}\u001b[39;00m\n\u001b[32m     24\u001b[39m \u001b[33m\u001b[39m\u001b[33m'''\u001b[39m\n\u001b[32m     26\u001b[39m response = client.chat.completions.create(\n\u001b[32m     27\u001b[39m \n\u001b[32m     28\u001b[39m     model=\u001b[33m'\u001b[39m\u001b[33mgpt-4o\u001b[39m\u001b[33m'\u001b[39m,\n\u001b[32m   (...)\u001b[39m\u001b[32m     55\u001b[39m     presence_penalty=\u001b[32m0\u001b[39m\n\u001b[32m     56\u001b[39m )\n\u001b[32m---> \u001b[39m\u001b[32m58\u001b[39m \u001b[38;5;28;01mreturn\u001b[39;00m \u001b[43mresponse\u001b[49m\u001b[43m.\u001b[49m\u001b[43mchoices\u001b[49m[\u001b[32m0\u001b[39m].message.content\n",
      "\u001b[31mAttributeError\u001b[39m: 'Stream' object has no attribute 'choices'"
     ]
    }
   ],
   "source": [
    "recognizer = sr.Recognizer()\n",
    "while True:\n",
    "    with sr.Microphone() as source:\n",
    "        print(first_input)\n",
    "        audio = recognizer.listen(source)\n",
    "        txt = recognizer.recognize_google(audio, language='ko')\n",
    "        \n",
    "        if txt is not None:\n",
    "            print(txt)\n",
    "            make_thema(txt)\n",
    "            break\n",
    "        \n"
   ]
  },
  {
   "cell_type": "code",
   "execution_count": 13,
   "id": "cde518b3",
   "metadata": {},
   "outputs": [
    {
     "name": "stdout",
     "output_type": "stream",
     "text": [
      "\n",
      "안녕하세요! 여기 재미있는 연애 밸런스 게임 주제 세 개를 준비했어요:\n",
      "\n",
      "주제 1. 연인의 여사친/남사친과 단둘이 여행 가기 vs 연인의 여사친/남사친과 단둘이 술 마시기\n",
      "\n",
      "주제 2. 연인이 과거에 한 번 바람핀 적이 있지만 지금은 완전히 신뢰할 수 있는 상태 vs 연인이 과거에 바람핀 적은 없지만 지금은 의심스러운 행동을 하는 상태\n",
      "\n",
      "주제 3. 연인과의 첫날밤에 갑자기 부모님이 방문하기 vs 연인과의 첫날밤에 갑자기 직장 상사가 방문하기\n",
      "\n",
      "어떤 것에 대해 이야기해볼까요?\n"
     ]
    }
   ],
   "source": [
    "print(make_thema('안녕! 재미있는 밸런스 게임 주제 세 개를 선정해줘!'))"
   ]
  },
  {
   "cell_type": "code",
   "execution_count": null,
   "id": "9000a2b3",
   "metadata": {},
   "outputs": [],
   "source": [
    "from openai import OpenAI\n",
    "\n",
    "def make_thema(query, temperature=0.3):\n",
    "    client = OpenAI()\n",
    "\n",
    "    system_instruction = '''\n",
    "    당신은 금요일에 퇴근하고 친구들을 만나 맛있는 저녁을 먹고 술을 적당히 마셔 신난 상태입니다. \n",
    "    술자리에서 다같이 재미있게 얘기할 만한 연애 밸런스 게임 주제 세 개를 선정해주세요.\n",
    "\n",
    "    ### 지시사항 ###\n",
    "    - 토론이 가능한 주제를 선정할 것.\n",
    "    - 성인이니까 선정적인 주제도 하나 정도는 출력할 것.\n",
    "    - 선택하기 어렵고 애매한 주제를 선택할 것\n",
    "\n",
    "    \n",
    "    ### 출력 형식 ###\n",
    "    주제 1. 선택지 vs 선택지\n",
    "    주제 2. 선택지 vs 선택지\n",
    "\n",
    "    어떤 것에 대해 이야기해볼까요?\n",
    "    '''\n",
    "    user_message = f'''\n",
    "    {query}\n",
    "    '''\n",
    "\n",
    "    response = client.chat.completions.create(\n",
    "\n",
    "        model='gpt-4o',\n",
    "        messages=[{\n",
    "            'role': 'system',\n",
    "            'content': [{\n",
    "                'type': 'text',\n",
    "                'text': system_instruction\n",
    "            }]\n",
    "\n",
    "        },\n",
    "        {\n",
    "            'role': 'user',\n",
    "            'content': [{\n",
    "                'type': 'text',\n",
    "                'text': user_message\n",
    "\n",
    "            }]\n",
    "\n",
    "            \n",
    "        }],\n",
    "        response_format={\n",
    "            'type':'text'\n",
    "        },\n",
    "        temperature=temperature,\n",
    "        max_tokens=2048,\n",
    "        top_p = 1,\n",
    "        frequency_penalty=0,\n",
    "        presence_penalty=0\n",
    "    )\n",
    "\n",
    "    return response.choices[0].message.content"
   ]
  },
  {
   "cell_type": "code",
   "execution_count": null,
   "id": "964418c8",
   "metadata": {},
   "outputs": [],
   "source": [
    "chat_log = [\n",
    "    {'role': 'system', 'content' :['너는 상대가 의견을 바꿀 수 있도록 설득하는 챗봇이야']}\n",
    "    {'role': 'user', 'content': }\n",
    "]"
   ]
  }
 ],
 "metadata": {
  "kernelspec": {
   "display_name": "llm_env",
   "language": "python",
   "name": "python3"
  },
  "language_info": {
   "codemirror_mode": {
    "name": "ipython",
    "version": 3
   },
   "file_extension": ".py",
   "mimetype": "text/x-python",
   "name": "python",
   "nbconvert_exporter": "python",
   "pygments_lexer": "ipython3",
   "version": "3.12.11"
  }
 },
 "nbformat": 4,
 "nbformat_minor": 5
}
