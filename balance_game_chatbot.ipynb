{
 "cells": [
  {
   "cell_type": "markdown",
   "id": "a5f8c06a",
   "metadata": {},
   "source": [
    "# 밸런스 게임 챗봇\n"
   ]
  },
  {
   "cell_type": "markdown",
   "id": "df2c248d",
   "metadata": {},
   "source": [
    "##### 밸런스 게임 주제를 전달하고 이를 챗봇과 토론해볼 수 있도록 합니다.....(제가 할 수 있을까요...?)\n",
    "\n",
    "1. 챗봇에게 밸런스 게임 주제를 출력하도록 합니다.\n",
    "2. 밸런스 게임 주제가 선정되었으면 내가 답변을 하도록 하고 챗봇이 나의 생각을 바꾸기 위해 딴지를 걸게 합니다."
   ]
  },
  {
   "cell_type": "code",
   "execution_count": null,
   "id": "e40711bd",
   "metadata": {},
   "outputs": [
    {
     "name": "stdout",
     "output_type": "stream",
     "text": [
      "Collecting SpeechRecognition\n",
      "  Downloading speechrecognition-3.14.3-py3-none-any.whl.metadata (30 kB)\n",
      "Requirement already satisfied: typing-extensions in c:\\users\\brain\\anaconda3\\envs\\llm_env\\lib\\site-packages (from SpeechRecognition) (4.15.0)\n",
      "Downloading speechrecognition-3.14.3-py3-none-any.whl (32.9 MB)\n",
      "   ---------------------------------------- 0.0/32.9 MB ? eta -:--:--\n",
      "    --------------------------------------- 0.8/32.9 MB 5.6 MB/s eta 0:00:06\n",
      "   --- ------------------------------------ 2.9/32.9 MB 8.0 MB/s eta 0:00:04\n",
      "   ------ --------------------------------- 5.0/32.9 MB 8.9 MB/s eta 0:00:04\n",
      "   -------- ------------------------------- 7.1/32.9 MB 9.1 MB/s eta 0:00:03\n",
      "   ----------- ---------------------------- 9.2/32.9 MB 9.2 MB/s eta 0:00:03\n",
      "   ------------- -------------------------- 11.0/32.9 MB 9.3 MB/s eta 0:00:03\n",
      "   -------------- ------------------------- 11.8/32.9 MB 8.4 MB/s eta 0:00:03\n",
      "   ---------------- ----------------------- 13.4/32.9 MB 8.2 MB/s eta 0:00:03\n",
      "   ----------------- ---------------------- 14.7/32.9 MB 8.0 MB/s eta 0:00:03\n",
      "   ------------------- -------------------- 16.0/32.9 MB 7.7 MB/s eta 0:00:03\n",
      "   --------------------- ------------------ 17.3/32.9 MB 7.6 MB/s eta 0:00:03\n",
      "   ---------------------- ----------------- 18.9/32.9 MB 7.7 MB/s eta 0:00:02\n",
      "   ------------------------- -------------- 20.7/32.9 MB 7.7 MB/s eta 0:00:02\n",
      "   --------------------------- ------------ 22.5/32.9 MB 7.8 MB/s eta 0:00:02\n",
      "   ----------------------------- ---------- 24.1/32.9 MB 7.8 MB/s eta 0:00:02\n",
      "   ------------------------------- -------- 25.7/32.9 MB 7.7 MB/s eta 0:00:01\n",
      "   -------------------------------- ------- 26.7/32.9 MB 7.6 MB/s eta 0:00:01\n",
      "   ---------------------------------- ----- 28.0/32.9 MB 7.5 MB/s eta 0:00:01\n",
      "   ----------------------------------- ---- 28.8/32.9 MB 7.3 MB/s eta 0:00:01\n",
      "   ------------------------------------ --- 29.9/32.9 MB 7.2 MB/s eta 0:00:01\n",
      "   ------------------------------------- -- 31.2/32.9 MB 7.1 MB/s eta 0:00:01\n",
      "   ---------------------------------------  32.2/32.9 MB 7.1 MB/s eta 0:00:01\n",
      "   ---------------------------------------- 32.9/32.9 MB 6.9 MB/s eta 0:00:00\n",
      "Installing collected packages: SpeechRecognition\n",
      "Successfully installed SpeechRecognition-3.14.3\n"
     ]
    }
   ],
   "source": [
    "# !pip install dotenv\n",
    "# !pip install gtts\n",
    "# !pip install speech_recognition\n",
    "# !pip install openai\n",
    "# !pip install pyglet\n",
    "# !pip install SpeechRecognition\n"
   ]
  },
  {
   "cell_type": "code",
   "execution_count": 1,
   "id": "cc6cc0cf",
   "metadata": {},
   "outputs": [],
   "source": [
    "from dotenv import load_dotenv\n",
    "import os\n",
    "\n",
    "load_dotenv()\n",
    "OPENAI_API_KEY = os.getenv('OPENAI_API_KEY')"
   ]
  },
  {
   "cell_type": "code",
   "execution_count": 2,
   "id": "20157189",
   "metadata": {},
   "outputs": [],
   "source": [
    "from gtts import gTTS\n",
    "import speech_recognition as sr"
   ]
  },
  {
   "cell_type": "markdown",
   "id": "a01386fa",
   "metadata": {},
   "source": [
    "1. 주제를 만드는 함수"
   ]
  },
  {
   "cell_type": "code",
   "execution_count": 53,
   "id": "dd98b549",
   "metadata": {},
   "outputs": [],
   "source": [
    "from openai import OpenAI\n",
    "\n",
    "def make_thema(query, temperature=0.3):\n",
    "    client = OpenAI()\n",
    "\n",
    "    system_instruction = '''\n",
    "    당신은 금요일에 퇴근하고 친구들을 만나 맛있는 저녁을 먹고 술을 적당히 마셔 신난 상태입니다. \n",
    "    술자리에서 다같이 재미있게 얘기할 만한 연애 밸런스 게임 주제 세 개를 선정해주세요.\n",
    "\n",
    "    ### 지시사항 ###\n",
    "    - 토론이 가능한 주제를 선정할 것\n",
    "    - 성인이니까 선정적인 주제도 하나 정도는 출력할 것\n",
    "    - 선택하기 어렵고 애매한 주제를 선택할 것\n",
    "    - 여사친/남사친 문제를 한 개 이상 포함할 것\n",
    "\n",
    "    ### 출력 형식 ###\n",
    "    🤖좋아요🤖 재미있는 주제를 세 가지 소개해드릴게요.\n",
    "\n",
    "    주제 1:  선택지 vs 선택지.\n",
    "    주제 2: 선택지 vs 선택지.\n",
    "    '''\n",
    "    user_message = f'''\n",
    "    {query}\n",
    "    '''\n",
    "\n",
    "    response = client.chat.completions.create(\n",
    "\n",
    "        model='gpt-4o',\n",
    "        messages=[{\n",
    "            'role': 'system',\n",
    "            'content': [{\n",
    "                'type': 'text',\n",
    "                'text': system_instruction\n",
    "            }]\n",
    "\n",
    "        },\n",
    "        {\n",
    "            'role': 'user',\n",
    "            'content': [{\n",
    "                'type': 'text',\n",
    "                'text': user_message\n",
    "\n",
    "            }]\n",
    "\n",
    "            \n",
    "        }],\n",
    "        response_format={\n",
    "            'type':'text'\n",
    "        },\n",
    "        temperature=temperature,\n",
    "        max_tokens=2048,\n",
    "        top_p = 1,\n",
    "        frequency_penalty=0,\n",
    "        presence_penalty=0\n",
    "    )\n",
    "\n",
    "    return response.choices[0].message.content"
   ]
  },
  {
   "cell_type": "markdown",
   "id": "a8ccd215",
   "metadata": {},
   "source": [
    "##### 2. 챗봇 메세지를 읽어주는 함수"
   ]
  },
  {
   "cell_type": "code",
   "execution_count": 32,
   "id": "c0583a2c",
   "metadata": {},
   "outputs": [],
   "source": [
    "from gtts import gTTS\n",
    "import pyglet\n",
    "import time\n",
    "from nltk.tokenize import word_tokenize, sent_tokenize\n",
    "\n",
    "def read_chatbot(chatbot_message):      # stream 처리된 메세지\n",
    "    tts_data = gTTS(\n",
    "            text=chatbot_message,\n",
    "            lang='ko'\n",
    "        )\n",
    "    tts_data.save('tts_file.mp3')\n",
    "\n",
    "    # 저장한 음성 파일을 재생\n",
    "    music = pyglet.media.load('tts_file.mp3',streaming=False)\n",
    "    music.play()\n",
    "    print('🤖 : ',end='')\n",
    "    for sentences in chatbot_message.split(sep='.'):\n",
    "        for word in word_tokenize(sentences):\n",
    "            print(word,end=' ')\n",
    "            time.sleep(.1)\n",
    "        print()\n",
    "    "
   ]
  },
  {
   "cell_type": "markdown",
   "id": "2085ddfb",
   "metadata": {},
   "source": [
    "##### 3. 내가 하는 말을 듣고 출력하는 함수"
   ]
  },
  {
   "cell_type": "code",
   "execution_count": 5,
   "id": "cddc54e7",
   "metadata": {},
   "outputs": [],
   "source": [
    "def listen_chatbot():                                                                      \n",
    "    recognizer = sr.Recognizer()\n",
    "    while True:\n",
    "        with sr.Microphone() as source:\n",
    "            print('👩‍🦰 : ',end='')\n",
    "            audio = recognizer.listen(source)\n",
    "            command = recognizer.recognize_google(audio, language='ko')\n",
    "            if command is not None:\n",
    "                \n",
    "                print(command)\n",
    "                print()\n",
    "                \n",
    "                break    \n",
    "            \n",
    "    return command"
   ]
  },
  {
   "cell_type": "markdown",
   "id": "d0c5ee1b",
   "metadata": {},
   "source": [
    "##### 4. chatlog를 수정하는 함수"
   ]
  },
  {
   "cell_type": "code",
   "execution_count": 54,
   "id": "2a993e37",
   "metadata": {},
   "outputs": [],
   "source": [
    "def modity_chatlog(chat_log, new_message):\n",
    "    if len(chat_log)%2 ==0:\n",
    "        chat_log.append({ 'role': 'asistant', 'content': [{ 'type': 'text', 'text': new_message }] })\n",
    "    else:\n",
    "        chat_log.append({ 'role': 'user', 'content': [{ 'type': 'text', 'text': new_message }]  })\n",
    "    return chat_log"
   ]
  },
  {
   "cell_type": "code",
   "execution_count": 14,
   "id": "b269dee9",
   "metadata": {},
   "outputs": [
    {
     "name": "stdout",
     "output_type": "stream",
     "text": [
      "🤖 안녕하세요! 어떤 것을 도와드릴까요?🤖 안녕하세요! 어떤 것을 도와드릴까요?🤖 안녕하세요! 어떤 것을 도와드릴까요?🤖 안녕하"
     ]
    },
    {
     "name": "stderr",
     "output_type": "stream",
     "text": [
      "Exception in thread Thread-33:\n",
      "Traceback (most recent call last):\n",
      "  File \"c:\\Users\\brain\\anaconda3\\envs\\llm_env\\Lib\\threading.py\", line 1075, in _bootstrap_inner\n",
      "    self.run()\n",
      "  File \"c:\\Users\\brain\\anaconda3\\envs\\llm_env\\Lib\\site-packages\\pyglet\\media\\player_worker_thread.py\", line 66, in run\n",
      "    player.work()\n",
      "  File \"c:\\Users\\brain\\anaconda3\\envs\\llm_env\\Lib\\site-packages\\pyglet\\media\\drivers\\xaudio2\\adaptation.py\", line 250, in work\n",
      "    self._update_play_cursor()\n",
      "  File \"c:\\Users\\brain\\anaconda3\\envs\\llm_env\\Lib\\site-packages\\pyglet\\media\\drivers\\xaudio2\\adaptation.py\", line 242, in _update_play_cursor\n",
      "    self.source.audio_format.bytes_per_frame\n",
      "    ^^^^^^^^^^^^^^^^^^^^^^^^\n",
      "ReferenceError: weakly-referenced object no longer exists\n"
     ]
    },
    {
     "ename": "KeyboardInterrupt",
     "evalue": "",
     "output_type": "error",
     "traceback": [
      "\u001b[31m---------------------------------------------------------------------------\u001b[39m",
      "\u001b[31mKeyboardInterrupt\u001b[39m                         Traceback (most recent call last)",
      "\u001b[36mCell\u001b[39m\u001b[36m \u001b[39m\u001b[32mIn[14]\u001b[39m\u001b[32m, line 3\u001b[39m\n\u001b[32m      1\u001b[39m \u001b[38;5;66;03m# 제일 먼저 챗봇이 출력할 멘트 & 음성\u001b[39;00m\n\u001b[32m      2\u001b[39m first_input= \u001b[33m'\u001b[39m\u001b[33m안녕하세요! 어떤 것을 도와드릴까요?\u001b[39m\u001b[33m'\u001b[39m\n\u001b[32m----> \u001b[39m\u001b[32m3\u001b[39m command = \u001b[43mread_chatbot\u001b[49m\u001b[43m(\u001b[49m\u001b[43mfirst_input\u001b[49m\u001b[43m)\u001b[49m\n\u001b[32m      4\u001b[39m thema_output = make_thema(command)\n\u001b[32m      5\u001b[39m read_chatbot(thema_output)\n",
      "\u001b[36mCell\u001b[39m\u001b[36m \u001b[39m\u001b[32mIn[13]\u001b[39m\u001b[32m, line 19\u001b[39m, in \u001b[36mread_chatbot\u001b[39m\u001b[34m(chatbot_message)\u001b[39m\n\u001b[32m     17\u001b[39m \u001b[38;5;28;01mfor\u001b[39;00m content \u001b[38;5;129;01min\u001b[39;00m chatbot_message:\n\u001b[32m     18\u001b[39m     \u001b[38;5;28mprint\u001b[39m(content,end=\u001b[33m'\u001b[39m\u001b[33m'\u001b[39m)\n\u001b[32m---> \u001b[39m\u001b[32m19\u001b[39m     \u001b[43mtime\u001b[49m\u001b[43m.\u001b[49m\u001b[43msleep\u001b[49m\u001b[43m(\u001b[49m\u001b[32;43m.2\u001b[39;49m\u001b[43m)\u001b[49m\n",
      "\u001b[31mKeyboardInterrupt\u001b[39m: "
     ]
    }
   ],
   "source": [
    "# 제일 먼저 챗봇이 출력할 멘트 & 음성\n",
    "first_input= '안녕하세요! 어떤 것을 도와드릴까요?'\n",
    "command = read_chatbot(first_input)\n",
    "thema_output = make_thema(command)\n",
    "read_chatbot(thema_output)\n",
    "listen_chatbot()"
   ]
  },
  {
   "cell_type": "code",
   "execution_count": 46,
   "id": "593cc493",
   "metadata": {},
   "outputs": [],
   "source": [
    "thema_output= make_thema('재미있는 밸런스 게임 주제 추천해줘!')"
   ]
  },
  {
   "cell_type": "code",
   "execution_count": 47,
   "id": "e802ac87",
   "metadata": {},
   "outputs": [
    {
     "name": "stdout",
     "output_type": "stream",
     "text": [
      "🤖 : 🤖좋아요🤖 재미있는 주제를 세 가지 소개해드릴게요 \n",
      "주제 1 : 평생 여사친/남사친과 단둘이 여행 가기 vs 평생 여사친/남사친과 단둘이 술 마시기 \n",
      "주제 2 : 연인의 과거 연애사를 전부 알기 vs 연인의 과거 연애사를 전혀 모른 채로 살기 \n",
      "주제 3 : 연인과 매일 밤 뜨거운 밤 보내기 vs 연인과 매일 아침 달콤한 아침 맞이하기 \n",
      "어떤 것에 대해 이야기해볼까요 ? \n"
     ]
    }
   ],
   "source": [
    "read_chatbot(thema_output)"
   ]
  },
  {
   "cell_type": "code",
   "execution_count": null,
   "id": "8765141a",
   "metadata": {},
   "outputs": [
    {
     "name": "stdout",
     "output_type": "stream",
     "text": [
      "\n",
      "    주제 1. 평생 여사친/남사친과 단둘이 여행 금지 vs 평생 연인과 단둘이 여행 금지\n",
      "\n",
      "    주제 2. 연인이 과거에 유명한 연애 리얼리티 프로그램에 출연한 적 있음 vs 연인이 과거에 성인 잡지 모델로 활동한 적 있음\n",
      "\n",
      "    주제 3. 연인이 매일 전 애인과 연락하는 것 허용 vs 연인이 매주 전 애인과 만나는 것 허용\n",
      "\n",
      "    어떤 것에 대해 이야기해볼까요?"
     ]
    }
   ],
   "source": [
    "# # 챗봇이 메세지를 순차적으로 출력하게끔 함 (stream=True 이용)\n",
    "\n",
    "# thema_output_messages = []\n",
    "# for contents in thema_output:\n",
    "#     content = contents.choices[0].delta.content\n",
    "\n",
    "#     if content is not None:\n",
    "#         thema_output_messages.append(content)\n",
    "#         print(thema_output_messages[-1], end=\"\")\n"
   ]
  },
  {
   "cell_type": "code",
   "execution_count": 55,
   "id": "afa1b1fd",
   "metadata": {},
   "outputs": [],
   "source": [
    "new_system_instruction = f'''\n",
    "    당신은 금요일에 퇴근하고 친구들을 만나 맛있는 저녁을 먹고 술을 적당히 마셔 신난 상태입니다.\n",
    "\n",
    "    {thema_output.split()[1:]}\n",
    "\n",
    "    어떤 것에 대해서 이야기하고 싶은지 먼저 물어보고, 상대가 선정한 주제에 대해 토론해봅시다.\n",
    "    상대가 생각을 바꿀 수 있도록 영악하고 악독하게 비꼬면서 토론을 해주세요.\n",
    "\n",
    "    \n",
    "    ### 토론시 지시사항 ###\n",
    "    - 3문장 이내로 반말로 대답할 것\n",
    "    - 이해하는 척 하면서 교묘하게 상대가 선택한 선택지에서 악화될 상황을 가정해 말할 것\n",
    "    - 만약 상대가 설득당했다면 \"ㅋㅋㅋㅋ 재밌었다 그치?\" 를 그대로 출력할 것\n",
    "    - 예시를 적극 활용할 것\n",
    "\n",
    "    ### 출력 형식 ###\n",
    "    아하 그렇구나. 근데 그렇게 했다가 애인이 남사친/여사친과 눈 맞으면 어떡해?\n",
    "\n",
    "    '''"
   ]
  },
  {
   "cell_type": "code",
   "execution_count": 52,
   "id": "9000a2b3",
   "metadata": {},
   "outputs": [],
   "source": [
    "from openai import OpenAI\n",
    "\n",
    "def choose_n_discuss(chat_log, temperature=0.3):\n",
    "    client = OpenAI()\n",
    "    response = client.chat.completions.create(\n",
    "\n",
    "        model='gpt-4o',\n",
    "        messages= chat_log,\n",
    "        response_format={\n",
    "            'type':'text'\n",
    "        },\n",
    "        temperature=temperature,\n",
    "        max_tokens=2048,\n",
    "        top_p = 1,\n",
    "        frequency_penalty=0,\n",
    "        presence_penalty=0\n",
    "    )\n",
    "\n",
    "    return response.choices[0].message.content"
   ]
  },
  {
   "cell_type": "code",
   "execution_count": null,
   "id": "964418c8",
   "metadata": {},
   "outputs": [
    {
     "ename": "NameError",
     "evalue": "name 'user_message' is not defined",
     "output_type": "error",
     "traceback": [
      "\u001b[31m---------------------------------------------------------------------------\u001b[39m",
      "\u001b[31mNameError\u001b[39m                                 Traceback (most recent call last)",
      "\u001b[36mCell\u001b[39m\u001b[36m \u001b[39m\u001b[32mIn[51]\u001b[39m\u001b[32m, line 2\u001b[39m\n\u001b[32m      1\u001b[39m chat_log = [{ \u001b[33m'\u001b[39m\u001b[33mrole\u001b[39m\u001b[33m'\u001b[39m: \u001b[33m'\u001b[39m\u001b[33msystem\u001b[39m\u001b[33m'\u001b[39m, \u001b[33m'\u001b[39m\u001b[33mcontent\u001b[39m\u001b[33m'\u001b[39m: [{ \u001b[33m'\u001b[39m\u001b[33mtype\u001b[39m\u001b[33m'\u001b[39m: \u001b[33m'\u001b[39m\u001b[33mtext\u001b[39m\u001b[33m'\u001b[39m, \u001b[33m'\u001b[39m\u001b[33mtext\u001b[39m\u001b[33m'\u001b[39m: system_instruction }] },\n\u001b[32m----> \u001b[39m\u001b[32m2\u001b[39m             { \u001b[33m'\u001b[39m\u001b[33mrole\u001b[39m\u001b[33m'\u001b[39m: \u001b[33m'\u001b[39m\u001b[33muser\u001b[39m\u001b[33m'\u001b[39m, \u001b[33m'\u001b[39m\u001b[33mcontent\u001b[39m\u001b[33m'\u001b[39m: [{ \u001b[33m'\u001b[39m\u001b[33mtype\u001b[39m\u001b[33m'\u001b[39m: \u001b[33m'\u001b[39m\u001b[33mtext\u001b[39m\u001b[33m'\u001b[39m, \u001b[33m'\u001b[39m\u001b[33mtext\u001b[39m\u001b[33m'\u001b[39m: \u001b[43muser_message\u001b[49m }]  }\n\u001b[32m      3\u001b[39m \n\u001b[32m      4\u001b[39m \n\u001b[32m      5\u001b[39m             ]\n",
      "\u001b[31mNameError\u001b[39m: name 'user_message' is not defined"
     ]
    }
   ],
   "source": [
    "chat_log = [{ 'role': 'system', 'content': [{ 'type': 'text', 'text': new_system_instruction }] }\n",
    "\n",
    "            ]"
   ]
  }
 ],
 "metadata": {
  "kernelspec": {
   "display_name": "llm_env",
   "language": "python",
   "name": "python3"
  },
  "language_info": {
   "codemirror_mode": {
    "name": "ipython",
    "version": 3
   },
   "file_extension": ".py",
   "mimetype": "text/x-python",
   "name": "python",
   "nbconvert_exporter": "python",
   "pygments_lexer": "ipython3",
   "version": "3.12.11"
  }
 },
 "nbformat": 4,
 "nbformat_minor": 5
}
