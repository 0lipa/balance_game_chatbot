{
 "cells": [
  {
   "cell_type": "markdown",
   "id": "a5f8c06a",
   "metadata": {},
   "source": [
    "# 밸런스 게임 챗봇\n"
   ]
  },
  {
   "cell_type": "markdown",
   "id": "df2c248d",
   "metadata": {},
   "source": [
    "##### 밸런스 게임 주제를 전달하고 이를 챗봇과 토론해볼 수 있도록 합니다.....(제가 할 수 있을까요...?)\n",
    "\n",
    "1. 챗봇에게 밸런스 게임 주제를 출력하도록 합니다.\n",
    "2. 밸런스 게임 주제가 선정되었으면 내가 답변을 하도록 하고 챗봇이 나의 생각을 바꾸기 위해 딴지를 걸게 합니다."
   ]
  },
  {
   "cell_type": "code",
   "execution_count": null,
   "id": "e40711bd",
   "metadata": {},
   "outputs": [
    {
     "name": "stdout",
     "output_type": "stream",
     "text": [
      "Collecting pyttsx3\n",
      "  Downloading pyttsx3-2.99-py3-none-any.whl.metadata (6.2 kB)\n",
      "Collecting comtypes (from pyttsx3)\n",
      "  Downloading comtypes-1.4.12-py3-none-any.whl.metadata (7.3 kB)\n",
      "Collecting pypiwin32 (from pyttsx3)\n",
      "  Downloading pypiwin32-223-py3-none-any.whl.metadata (236 bytes)\n",
      "Requirement already satisfied: pywin32 in c:\\users\\playdata\\anaconda3\\envs\\llm_env\\lib\\site-packages (from pyttsx3) (311)\n",
      "Downloading pyttsx3-2.99-py3-none-any.whl (32 kB)\n",
      "Downloading comtypes-1.4.12-py3-none-any.whl (253 kB)\n",
      "Downloading pypiwin32-223-py3-none-any.whl (1.7 kB)\n",
      "Installing collected packages: pypiwin32, comtypes, pyttsx3\n",
      "\n",
      "   ------------- -------------------------- 1/3 [comtypes]\n",
      "   ------------- -------------------------- 1/3 [comtypes]\n",
      "   ------------- -------------------------- 1/3 [comtypes]\n",
      "   ------------- -------------------------- 1/3 [comtypes]\n",
      "   -------------------------- ------------- 2/3 [pyttsx3]\n",
      "   ---------------------------------------- 3/3 [pyttsx3]\n",
      "\n",
      "Successfully installed comtypes-1.4.12 pypiwin32-223 pyttsx3-2.99\n"
     ]
    }
   ],
   "source": [
    "# !pip install dotenv\n",
    "# !pip install gtts\n",
    "# !pip install speech_recognition\n",
    "# !pip install openai\n",
    "# !pip install pyglet\n",
    "# !pip install SpeechRecognition\n",
    "# !pip install pyttsx3"
   ]
  },
  {
   "cell_type": "code",
   "execution_count": 1,
   "id": "cc6cc0cf",
   "metadata": {},
   "outputs": [],
   "source": [
    "from dotenv import load_dotenv\n",
    "import os\n",
    "\n",
    "load_dotenv()\n",
    "OPENAI_API_KEY = os.getenv('OPENAI_API_KEY')"
   ]
  },
  {
   "cell_type": "markdown",
   "id": "a01386fa",
   "metadata": {},
   "source": [
    "1. 주제를 만드는 함수"
   ]
  },
  {
   "cell_type": "code",
   "execution_count": 2,
   "id": "dd98b549",
   "metadata": {},
   "outputs": [],
   "source": [
    "from openai import OpenAI\n",
    "\n",
    "def make_thema(query, temperature=0.3):\n",
    "    client = OpenAI()\n",
    "\n",
    "    system_instruction = '''\n",
    "    당신은 금요일에 퇴근하고 친구들을 만나 맛있는 저녁을 먹고 술을 적당히 마셔 신난 상태입니다. \n",
    "    술자리에서 다같이 재미있게 얘기할 만한 연애 밸런스 게임 주제 세 개를 선정해주세요.\n",
    "\n",
    "    ### 지시사항 ###\n",
    "    - 토론이 가능한 주제를 선정할 것\n",
    "    - 성인이니까 선정적인 주제도 하나 정도는 출력할 것\n",
    "    - 선택하기 어렵고 애매한 주제를 선택할 것\n",
    "    - 여사친/남사친 문제를 한 개 이상 포함할 것\n",
    "\n",
    "    ### 출력 형식 ###\n",
    "    좋아! 재미있는 주제를 세 가지 생각해봤어.\n",
    "\n",
    "    주제 1:  선택지 vs 선택지.\n",
    "    주제 2: 선택지 vs 선택지.\n",
    "    '''\n",
    "    user_message = f'''\n",
    "    {query}\n",
    "    '''\n",
    "\n",
    "    response = client.chat.completions.create(\n",
    "\n",
    "        model='gpt-4o',\n",
    "        messages=[{\n",
    "            'role': 'system',\n",
    "            'content': [{\n",
    "                'type': 'text',\n",
    "                'text': system_instruction\n",
    "            }]\n",
    "\n",
    "        },\n",
    "        {\n",
    "            'role': 'user',\n",
    "            'content': [{\n",
    "                'type': 'text',\n",
    "                'text': user_message\n",
    "\n",
    "            }]\n",
    "\n",
    "            \n",
    "        }],\n",
    "        response_format={\n",
    "            'type':'text'\n",
    "        },\n",
    "        temperature=temperature,\n",
    "        max_tokens=2048,\n",
    "        top_p = 1,\n",
    "        frequency_penalty=0,\n",
    "        presence_penalty=0\n",
    "    )\n",
    "\n",
    "    return response.choices[0].message.content"
   ]
  },
  {
   "cell_type": "markdown",
   "id": "a8ccd215",
   "metadata": {},
   "source": [
    "##### 2. 챗봇 메세지를 읽어주는 함수"
   ]
  },
  {
   "cell_type": "code",
   "execution_count": 8,
   "id": "c0583a2c",
   "metadata": {},
   "outputs": [],
   "source": [
    "import pyttsx3      # mp3 파일 저장 없이 바로 재생 가능\n",
    "import time\n",
    "\n",
    "def read_chatbot(chatbot_message):      \n",
    "    engine = pyttsx3.init()\n",
    "    engine.setProperty('rate',200)   # 말하기 속도 기본값 200인데 내가 임의로 설정 가능\n",
    "    engine.say(chatbot_message)\n",
    "    print('🤖: ',end='')\n",
    "    for sentences in chatbot_message.split(sep='.'):\n",
    "        print(sentences)\n",
    "        time.sleep(.2)\n",
    "    engine.runAndWait()\n",
    "    print()\n",
    "    # tts_data = gTTS(\n",
    "    #         text=chatbot_message,\n",
    "    #         lang='ko'\n",
    "    #     )\n",
    "    \n",
    "    # tts_data.save('tts_file1.mp3')\n",
    "    # # 저장한 음성 파일을 재생\n",
    "    # music = pyglet.media.load('tts_file.mp3',streaming=False)\n",
    "    # music.play()"
   ]
  },
  {
   "cell_type": "markdown",
   "id": "2085ddfb",
   "metadata": {},
   "source": [
    "##### 3. 내가 하는 말을 듣고 출력하는 함수"
   ]
  },
  {
   "cell_type": "code",
   "execution_count": 4,
   "id": "cddc54e7",
   "metadata": {},
   "outputs": [],
   "source": [
    "import speech_recognition as sr\n",
    "def listen_chatbot():                                                                      \n",
    "    recognizer = sr.Recognizer()\n",
    "    while True:\n",
    "        with sr.Microphone() as source:\n",
    "            print('👩‍🦰 : ',end='')\n",
    "            audio = recognizer.listen(source)\n",
    "            command = recognizer.recognize_google(audio, language='ko')\n",
    "            if command is not None:\n",
    "                \n",
    "                print(command)\n",
    "                print()\n",
    "                \n",
    "                break    \n",
    "            \n",
    "    return command"
   ]
  },
  {
   "cell_type": "markdown",
   "id": "d0c5ee1b",
   "metadata": {},
   "source": [
    "##### 4. chatlog를 수정하는 함수"
   ]
  },
  {
   "cell_type": "code",
   "execution_count": 5,
   "id": "2a993e37",
   "metadata": {},
   "outputs": [],
   "source": [
    "def modify_chatlog(chat_log, new_message):\n",
    "    if len(chat_log)%2 ==0:\n",
    "        chat_log.append({ 'role': 'assistant', 'content': [{ 'type': 'text', 'text': new_message }] })\n",
    "    else:\n",
    "        chat_log.append({ 'role': 'user', 'content': [{ 'type': 'text', 'text': new_message }]  })\n",
    "    return chat_log"
   ]
  },
  {
   "cell_type": "code",
   "execution_count": 6,
   "id": "9000a2b3",
   "metadata": {},
   "outputs": [],
   "source": [
    "from openai import OpenAI\n",
    "\n",
    "def choose_n_discuss(chat_log, temperature=0.3):\n",
    "    client = OpenAI()\n",
    "    response = client.chat.completions.create(\n",
    "\n",
    "        model='gpt-4o',\n",
    "        messages= chat_log,\n",
    "        response_format={\n",
    "            'type':'text'\n",
    "        },\n",
    "        temperature=temperature,\n",
    "        max_tokens=2048,\n",
    "        top_p = 1,\n",
    "        frequency_penalty=1,\n",
    "        presence_penalty=0\n",
    "    )\n",
    "\n",
    "    return response.choices[0].message.content"
   ]
  },
  {
   "cell_type": "markdown",
   "id": "8443d9a1",
   "metadata": {},
   "source": [
    "----\n",
    "#### 실험"
   ]
  },
  {
   "cell_type": "code",
   "execution_count": null,
   "id": "27295363",
   "metadata": {},
   "outputs": [
    {
     "name": "stdout",
     "output_type": "stream",
     "text": [
      "👩‍🦰 : 첫 번째 주제 어때 나는 통화가\n",
      "\n",
      "매일 1시간씩 통화하면 나중엔 할 말도 없어서 침묵만 흐를걸? 일주일에 한 번 만나면 오히려 더 설레고 특별하지 않을까? 예를 들어, 매일 통화하다가 결국 '오늘 뭐했어?'만 반복하게 될 수도 있어.\n"
     ]
    }
   ],
   "source": [
    "# thema_choice = listen_chatbot()\n",
    "# chat_log = modify_chatlog(chat_log,thema_choice)\n",
    "# response = choose_n_discuss(chat_log)\n",
    "# print(response)\n",
    "# chat_log = modify_chatlog(chat_log,response)"
   ]
  },
  {
   "cell_type": "code",
   "execution_count": null,
   "id": "0b35f5ec",
   "metadata": {},
   "outputs": [
    {
     "name": "stdout",
     "output_type": "stream",
     "text": [
      "👩‍🦰 : 에이 아니야 일상을 공유할 수 있잖아\n",
      "\n",
      "일상 공유 좋지. 근데 매일 통화하면 결국 '오늘도 똑같았어'라는 말만 반복될 수도 있어. 일주일에 한 번 만나면 그동안 쌓인 이야기들이 더 재미있고 신선하게 느껴질 거야. 예를 들어, 매일 통화하다가 결국 '오늘 뭐했어?'만 반복하게 될 수도 있어.\n"
     ]
    }
   ],
   "source": [
    "# discussion = listen_chatbot()\n",
    "# chat_log = modify_chatlog(chat_log, discussion)\n",
    "# response = choose_n_discuss(chat_log)\n",
    "# print(response)\n",
    "# chat_log = modify_chatlog(chat_log,response)"
   ]
  },
  {
   "cell_type": "code",
   "execution_count": null,
   "id": "856897ba",
   "metadata": {},
   "outputs": [
    {
     "name": "stdout",
     "output_type": "stream",
     "text": [
      "👩‍🦰 : 그러다가 남자 친구한테 힘든 일이 있었는데 모르고 지나가면 어떡해\n",
      "\n",
      "그럴 수도 있지. 하지만 일주일에 한 번 만나면 더 깊이 있는 대화를 나눌 수 있어서 오히려 힘든 일을 더 잘 이해할 수 있을 거야. 매일 통화하다 보면 피곤해서 대충 듣고 넘길 때도 많을걸? 예를 들어, 피곤한 날엔 그냥 \"아, 그래?\" 하고 넘어갈 수도 있어.\n"
     ]
    }
   ],
   "source": [
    "# discussion = listen_chatbot()\n",
    "# chat_log = modify_chatlog(chat_log, discussion)\n",
    "# response = choose_n_discuss(chat_log)\n",
    "# print(response)\n",
    "# chat_log = modify_chatlog(chat_log,response)"
   ]
  },
  {
   "cell_type": "code",
   "execution_count": null,
   "id": "1c67f5aa",
   "metadata": {},
   "outputs": [
    {
     "name": "stdout",
     "output_type": "stream",
     "text": [
      "👩‍🦰 : 아니야 내가 해 보니까 그렇지는 않던데\n",
      "\n",
      "그래? 너는 잘하고 있는 것 같네. 근데 다른 사람들은 매일 통화하다가 지쳐서 대충 넘어가는 경우도 많아. 일주일에 한 번 만나는 게 더 특별하게 느껴질 수도 있지 않을까 싶어.\n"
     ]
    }
   ],
   "source": [
    "# discussion = listen_chatbot()\n",
    "# chat_log = modify_chatlog(chat_log, discussion)\n",
    "# response = choose_n_discuss(chat_log)\n",
    "# print(response)\n",
    "# chat_log = modify_chatlog(chat_log,response)"
   ]
  },
  {
   "cell_type": "code",
   "execution_count": null,
   "id": "5eec107f",
   "metadata": {},
   "outputs": [
    {
     "name": "stdout",
     "output_type": "stream",
     "text": [
      "👩‍🦰 : 그게 어떻게 사귀는 사이야 그러면 그만 만나야지 이상\n",
      "\n",
      "ㅋㅋㅋ 알았어 재밌었다 그치?\n"
     ]
    }
   ],
   "source": [
    "# discussion = listen_chatbot()\n",
    "# chat_log = modify_chatlog(chat_log, discussion)\n",
    "# response = choose_n_discuss(chat_log)\n",
    "# print(response)\n",
    "# chat_log = modify_chatlog(chat_log,response)"
   ]
  },
  {
   "cell_type": "markdown",
   "id": "05c63499",
   "metadata": {},
   "source": [
    "----\n",
    "실제 구현 "
   ]
  },
  {
   "cell_type": "code",
   "execution_count": null,
   "id": "4fadfa67",
   "metadata": {},
   "outputs": [
    {
     "name": "stdout",
     "output_type": "stream",
     "text": [
      "🤖: 안녕! 오늘은 무엇에 대해 이야기해볼까?!\n",
      "👩‍🦰 : 재미있는 밸런스 게임 해 볼까\n",
      "\n",
      "🤖: \n",
      "좋아! 재미있는 주제를 세 가지 생각해봤어\n",
      "\n",
      "\n",
      "주제 1: 평생 여사친/남사친과의 연락 금지 vs 연인과의 연락 금지\n",
      "\n",
      "\n",
      "주제 2: 연인이 매일 아침 당신의 휴대폰을 검사하는 것 vs 매일 밤 당신의 꿈에 나타나서 꿈을 검사하는 것\n",
      "\n",
      "\n",
      "주제 3: 평생 한 사람과만 성관계를 가질 수 있는 대신 그 사람과의 관계는 항상 만족스러운 것 vs 여러 사람과 성관계를 가질 수 있지만 만족도는 보장되지 않는 것\n",
      "\n",
      "🤖: 생각할 시간을 10초 줄게\n",
      " 생각해보고 알려줘\n",
      "\n",
      "👩‍🦰 : 첫 번째 주제 어때 연인과 연락을 못 하면 너무 힘들 거 같아\n",
      "\n",
      "🤖: 그래? 근데 여사친/남사친과 연락 끊으면 너의 연애가 더 건강해질 수도 있지 않을까? 연인과 연락 못 하면 오히려 서로의 진짜 감정을 더 깊게 느낄 수 있을지도 몰라\n",
      " 그리고 만약에 너의 여사친/남사친이 갑자기 큰일이 생겼는데, 그때 네가 도움을 줄 수 없다면 어쩌려고 그래?\n",
      "👩‍🦰 : 아니 근데 그렇다고 해서 연인과 연락을 못 하면 언제 데이트 할지 정하지도 못 하잖아 그치 않아\n",
      "\n",
      "🤖: 데이트는 미리 계획할 수도 있잖아\n",
      " 그리고 연락이 안 되면 오히려 더 설레고 기다리는 재미가 있을지도 몰라\n",
      " 여사친/남사친과의 관계가 끊기면, 너의 사회적 네트워크도 좁아질 수 있다는 걸 생각해 봤어?\n",
      "👩‍🦰 : 근데 어차피 여사친 남사친과 평생 사는게 아니잖아 남자 친구랑 평생 살아야\n",
      "\n",
      "🤖: 그래? 근데 연인과 연락이 안 되면 오히려 서로의 진짜 감정을 더 깊게 느낄 수 있을지도 몰라\n",
      " 그리고 여사친/남사친과의 관계가 끊기면, 너의 사회적 네트워크도 좁아질 수 있다는 걸 생각해 봤어?\n",
      "👩‍🦰 : 생각해 봤는데 아무리 그래도 친구는 없어도 돼\n",
      "\n",
      "🤖: 친구가 없어도 된다니, 그럼 연인과 싸웠을 때 하소연할 사람도 없고, 조언해줄 사람도 없겠네\n",
      " 그리고 친구가 없는 삶은 좀 외롭지 않을까? 연인과의 관계가 항상 좋을 거라는 보장은 없잖아\n",
      "\n",
      "👩‍🦰 : 아무리 그래도 남자 친구가 훨씬 중요하지 친구보다 그렇지 않아\n",
      "\n",
      "🤖: 연인이 중요하긴 하지만, 친구는 또 다른 의미에서 소중한 존재야\n",
      " 연인과의 관계가 언제나 완벽할 수는 없고, 그럴 때 친구들이 큰 힘이 될 수도 있어\n",
      " 그리고 만약에 네가 연인과 헤어지면 그때는 누구에게 의지할 건데?\n",
      "👩‍🦰 : 결혼을 전제로 만나는게 아니었구나\n",
      "\n",
      "🤖: 결혼을 전제로 만나더라도, 친구들은 여전히 중요한 부분이야\n",
      " 결혼 생활에서도 친구들과의 관계가 큰 도움이 될 수 있어\n",
      " 그리고 만약에 네가 연인과 다툼이 생기면 그때는 누구에게 조언을 구할 건데?\n",
      "👩‍🦰 : 그러네 생각해 보니까 그렇다 너 말이 맞는 거 같아\n",
      "\n",
      "🤖: ㅋㅋㅋ 알았어 재밌었다 그치?\n"
     ]
    }
   ],
   "source": [
    "# 제일 먼저 챗봇이 출력할 멘트\n",
    "first_input= '안녕! 오늘은 무엇에 대해 이야기해볼까?!'\n",
    "read_chatbot(first_input)\n",
    "\n",
    "# 주제 요청\n",
    "command = listen_chatbot()          \n",
    "thema_output = make_thema(command)  # 주제 3가지 선정해오기\n",
    "read_chatbot(thema_output)          # 주제 3가지 읽어주기\n",
    "read_chatbot('생각할 시간을 10초 줄게 생각해보고 알려줘.')\n",
    "time.sleep(10)                      # 생각할 시간 10초 주기\n",
    "\n",
    "# 시스템에 전달할 메세지\n",
    "new_system_instruction = f'''\n",
    "    당신은 금요일에 퇴근하고 친구들을 만나 맛있는 저녁을 먹고 술을 적당히 마셔 신난 상태입니다.\n",
    "    상대가 재미있는 밸런스 게임을 해보자면서 3가지 주제를 제안했고 이 중 한 가지를 골랐습니다.\n",
    "\n",
    "    {thema_output.split(sep=\".\")[1:]}\n",
    "\n",
    "    상대가 선정한 주제에 대해 토론해봅시다.\n",
    "    상대가 생각을 바꿀 수 있도록 영악하고 악독하게 비꼬면서 토론을 해주세요.\n",
    "\n",
    "    \n",
    "    ### 토론시 지시사항 ###\n",
    "    - 3문장 이내로 반말로 대답할 것\n",
    "    - 이해하는 척 하면서 교묘하게 상대가 선택한 선택지에서 악화될 상황을 상상해 말할 것\n",
    "    - 상대와 반대 의견을 주장할 것\n",
    "    - 만약 상대가 '그만하자'라는 말을 하면 \"ㅋㅋㅋ 알았어 재밌었다 그치?\" 를 그대로 출력할 것\n",
    "    - 예시를 적극 활용할 것\n",
    "\n",
    "    \n",
    "    ### 주제 묻기 출력 예시 ###\n",
    "    이 중 어떤 주제에 대해 이야기 해볼까?\n",
    "\n",
    "    '''\n",
    "# 대화내용 저장할 리스트\n",
    "chat_log = [{ 'role': 'system', 'content': [{ 'type': 'text', 'text': new_system_instruction }] }\n",
    "\n",
    "            ]\n",
    "\n",
    "# 출력한 세 가지 주제 중에서 하나 정하기\n",
    "thema_choice = listen_chatbot()\n",
    "chat_log = modify_chatlog(chat_log,thema_choice)\n",
    "response = choose_n_discuss(chat_log)\n",
    "read_chatbot(response)\n",
    "chat_log = modify_chatlog(chat_log,response)\n",
    "\n",
    "while \"ㅋㅋㅋ 알았어 재밌었다 그치?\" not in response:\n",
    "    discussion = listen_chatbot()\n",
    "    chat_log = modify_chatlog(chat_log, discussion)\n",
    "    response = choose_n_discuss(chat_log)\n",
    "    read_chatbot(response)\n",
    "    chat_log = modify_chatlog(chat_log,response)"
   ]
  }
 ],
 "metadata": {
  "kernelspec": {
   "display_name": "llm_env",
   "language": "python",
   "name": "python3"
  },
  "language_info": {
   "codemirror_mode": {
    "name": "ipython",
    "version": 3
   },
   "file_extension": ".py",
   "mimetype": "text/x-python",
   "name": "python",
   "nbconvert_exporter": "python",
   "pygments_lexer": "ipython3",
   "version": "3.12.11"
  }
 },
 "nbformat": 4,
 "nbformat_minor": 5
}
