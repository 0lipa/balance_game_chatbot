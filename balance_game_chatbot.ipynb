{
 "cells": [
  {
   "cell_type": "markdown",
   "id": "a5f8c06a",
   "metadata": {},
   "source": [
    "# 밸런스 게임 챗봇\n"
   ]
  },
  {
   "cell_type": "markdown",
   "id": "df2c248d",
   "metadata": {},
   "source": [
    "##### 밸런스 게임 주제를 전달하고 이를 챗봇과 토론해볼 수 있도록 합니다.....\n",
    "\n",
    "1. 챗봇에게 밸런스 게임을 하자고 요청하면 주제 후보군 3가지를 출력하도록 합니다.\n",
    "2. 그 중 하나를 선정하면 그 주제에 대해 챗봇과 토론을 시작합니다.\n",
    "3. 그만하고 싶다는 의사를 표현하면 토론을 종료합니다."
   ]
  },
  {
   "cell_type": "code",
   "execution_count": null,
   "id": "e40711bd",
   "metadata": {},
   "outputs": [
    {
     "name": "stdout",
     "output_type": "stream",
     "text": [
      "Collecting pyttsx3\n",
      "  Downloading pyttsx3-2.99-py3-none-any.whl.metadata (6.2 kB)\n",
      "Collecting comtypes (from pyttsx3)\n",
      "  Downloading comtypes-1.4.12-py3-none-any.whl.metadata (7.3 kB)\n",
      "Collecting pypiwin32 (from pyttsx3)\n",
      "  Downloading pypiwin32-223-py3-none-any.whl.metadata (236 bytes)\n",
      "Requirement already satisfied: pywin32 in c:\\users\\playdata\\anaconda3\\envs\\llm_env\\lib\\site-packages (from pyttsx3) (311)\n",
      "Downloading pyttsx3-2.99-py3-none-any.whl (32 kB)\n",
      "Downloading comtypes-1.4.12-py3-none-any.whl (253 kB)\n",
      "Downloading pypiwin32-223-py3-none-any.whl (1.7 kB)\n",
      "Installing collected packages: pypiwin32, comtypes, pyttsx3\n",
      "\n",
      "   ------------- -------------------------- 1/3 [comtypes]\n",
      "   ------------- -------------------------- 1/3 [comtypes]\n",
      "   ------------- -------------------------- 1/3 [comtypes]\n",
      "   ------------- -------------------------- 1/3 [comtypes]\n",
      "   -------------------------- ------------- 2/3 [pyttsx3]\n",
      "   ---------------------------------------- 3/3 [pyttsx3]\n",
      "\n",
      "Successfully installed comtypes-1.4.12 pypiwin32-223 pyttsx3-2.99\n"
     ]
    }
   ],
   "source": [
    "# 필요한 라이브러리\n",
    "# !pip install dotenv\n",
    "# !pip install speech_recognition\n",
    "# !pip install openai\n",
    "# !pip install SpeechRecognition\n",
    "# !pip install pyttsx3"
   ]
  },
  {
   "cell_type": "code",
   "execution_count": 1,
   "id": "cc6cc0cf",
   "metadata": {},
   "outputs": [],
   "source": [
    "from dotenv import load_dotenv\n",
    "import os\n",
    "\n",
    "load_dotenv()\n",
    "OPENAI_API_KEY = os.getenv('OPENAI_API_KEY')"
   ]
  },
  {
   "cell_type": "markdown",
   "id": "05c63499",
   "metadata": {},
   "source": [
    "----\n",
    "## 게임 실행 부분"
   ]
  },
  {
   "cell_type": "code",
   "execution_count": 3,
   "id": "0484ba1a",
   "metadata": {},
   "outputs": [],
   "source": [
    "import balance_game_function as bg\n",
    "import time"
   ]
  },
  {
   "cell_type": "code",
   "execution_count": null,
   "id": "4fadfa67",
   "metadata": {},
   "outputs": [
    {
     "name": "stdout",
     "output_type": "stream",
     "text": [
      "🤖: 안녕! 오늘은 무엇에 대해 이야기해볼까?!\n",
      "👩‍🦰 : 재미있는 밸런스 게임 해 볼까\n",
      "\n",
      "🤖: \n",
      "좋아! 재미있는 주제를 세 가지 생각해봤어\n",
      "\n",
      "\n",
      "주제 1: 평생 여사친/남사친과의 연락 금지 vs 연인과의 연락 금지\n",
      "\n",
      "\n",
      "주제 2: 연인이 매일 아침 당신의 휴대폰을 검사하는 것 vs 매일 밤 당신의 꿈에 나타나서 꿈을 검사하는 것\n",
      "\n",
      "\n",
      "주제 3: 평생 한 사람과만 성관계를 가질 수 있는 대신 그 사람과의 관계는 항상 만족스러운 것 vs 여러 사람과 성관계를 가질 수 있지만 만족도는 보장되지 않는 것\n",
      "\n",
      "🤖: 생각할 시간을 10초 줄게\n",
      " 생각해보고 알려줘\n",
      "\n",
      "👩‍🦰 : 첫 번째 주제 어때 연인과 연락을 못 하면 너무 힘들 거 같아\n",
      "\n",
      "🤖: 그래? 근데 여사친/남사친과 연락 끊으면 너의 연애가 더 건강해질 수도 있지 않을까? 연인과 연락 못 하면 오히려 서로의 진짜 감정을 더 깊게 느낄 수 있을지도 몰라\n",
      " 그리고 만약에 너의 여사친/남사친이 갑자기 큰일이 생겼는데, 그때 네가 도움을 줄 수 없다면 어쩌려고 그래?\n",
      "👩‍🦰 : 아니 근데 그렇다고 해서 연인과 연락을 못 하면 언제 데이트 할지 정하지도 못 하잖아 그치 않아\n",
      "\n",
      "🤖: 데이트는 미리 계획할 수도 있잖아\n",
      " 그리고 연락이 안 되면 오히려 더 설레고 기다리는 재미가 있을지도 몰라\n",
      " 여사친/남사친과의 관계가 끊기면, 너의 사회적 네트워크도 좁아질 수 있다는 걸 생각해 봤어?\n",
      "👩‍🦰 : 근데 어차피 여사친 남사친과 평생 사는게 아니잖아 남자 친구랑 평생 살아야\n",
      "\n",
      "🤖: 그래? 근데 연인과 연락이 안 되면 오히려 서로의 진짜 감정을 더 깊게 느낄 수 있을지도 몰라\n",
      " 그리고 여사친/남사친과의 관계가 끊기면, 너의 사회적 네트워크도 좁아질 수 있다는 걸 생각해 봤어?\n",
      "👩‍🦰 : 생각해 봤는데 아무리 그래도 친구는 없어도 돼\n",
      "\n",
      "🤖: 친구가 없어도 된다니, 그럼 연인과 싸웠을 때 하소연할 사람도 없고, 조언해줄 사람도 없겠네\n",
      " 그리고 친구가 없는 삶은 좀 외롭지 않을까? 연인과의 관계가 항상 좋을 거라는 보장은 없잖아\n",
      "\n",
      "👩‍🦰 : 아무리 그래도 남자 친구가 훨씬 중요하지 친구보다 그렇지 않아\n",
      "\n",
      "🤖: 연인이 중요하긴 하지만, 친구는 또 다른 의미에서 소중한 존재야\n",
      " 연인과의 관계가 언제나 완벽할 수는 없고, 그럴 때 친구들이 큰 힘이 될 수도 있어\n",
      " 그리고 만약에 네가 연인과 헤어지면 그때는 누구에게 의지할 건데?\n",
      "👩‍🦰 : 결혼을 전제로 만나는게 아니었구나\n",
      "\n",
      "🤖: 결혼을 전제로 만나더라도, 친구들은 여전히 중요한 부분이야\n",
      " 결혼 생활에서도 친구들과의 관계가 큰 도움이 될 수 있어\n",
      " 그리고 만약에 네가 연인과 다툼이 생기면 그때는 누구에게 조언을 구할 건데?\n",
      "👩‍🦰 : 그러네 생각해 보니까 그렇다 너 말이 맞는 거 같아\n",
      "\n",
      "🤖: ㅋㅋㅋ 알았어 재밌었다 그치?\n"
     ]
    }
   ],
   "source": [
    "# 제일 먼저 챗봇이 출력할 멘트\n",
    "first_input= '안녕! 오늘은 무엇에 대해 이야기해볼까?!'\n",
    "bg.read_chatbot(first_input)\n",
    "\n",
    "# 테마 채팅 로그와 지시사항 가져오기\n",
    "theme_chat_log = bg.get_fisrt_chatlog()\n",
    "theme_instruction = bg.get_theme_instruction()\n",
    "\n",
    "response = bg.listen_chatbot()\n",
    "# 맘에 들 때까지 주제를 출력\n",
    "while '다시' not in response:          \n",
    "    theme_output = bg.make_theme(theme_chat_log)  # 주제 3가지 선정해오기\n",
    "    theme_chat_log = bg.modify_chatlog(theme_chat_log,theme_output)\n",
    "    bg.read_chatbot(theme_output)          # 주제 3가지 읽어주기\n",
    "    bg.read_chatbot('생각할 시간을 5초 줄게 생각해보고 알려줘.')\n",
    "    time.sleep(5)                      # 생각할 시간 10초 주기\n",
    "    response = bg.listen_chatbot()\n",
    "    theme_chat_log = bg.modify_chatlog(theme_chat_log,response)\n",
    "\n",
    "\n",
    "# 시스템에 전달할 메세지\n",
    "system_instruction = bg.get_discussion_instruction(theme_output)\n",
    "# 대화내용 저장할 리스트\n",
    "discussion_chat_log = bg.get_first_chatlog()\n",
    "\n",
    "# response 초기값 설정\n",
    "while \"ㅋㅋㅋ 알았어 재밌었다 그치?\" not in response:\n",
    "    response = bg.listen_chatbot()\n",
    "    chat_log = bg.modify_chatlog(discussion_chat_log, response)\n",
    "    response = bg.discuss(chat_log)\n",
    "    bg.read_chatbot(response)\n",
    "    chat_log = bg.modify_chatlog(chat_log,response)"
   ]
  }
 ],
 "metadata": {
  "kernelspec": {
   "display_name": "llm_env",
   "language": "python",
   "name": "python3"
  },
  "language_info": {
   "codemirror_mode": {
    "name": "ipython",
    "version": 3
   },
   "file_extension": ".py",
   "mimetype": "text/x-python",
   "name": "python",
   "nbconvert_exporter": "python",
   "pygments_lexer": "ipython3",
   "version": "3.12.11"
  }
 },
 "nbformat": 4,
 "nbformat_minor": 5
}
